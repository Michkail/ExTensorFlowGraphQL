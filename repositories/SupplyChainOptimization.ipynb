{
 "cells": [
  {
   "cell_type": "markdown",
   "source": [
    "* Numpy as linear algebra,\n",
    "* Pandas as data processing,\n",
    "* PuLP for solving linear programming and optimization problems, including linear and integer programming, mixed-integer programming."
   ],
   "metadata": {
    "collapsed": false
   },
   "id": "a0fb09b82eaef466"
  },
  {
   "cell_type": "code",
   "source": [
    "import pandas as pd\n",
    "from pulp import *"
   ],
   "metadata": {
    "collapsed": false,
    "ExecuteTime": {
     "end_time": "2024-05-05T14:21:18.796047Z",
     "start_time": "2024-05-05T14:17:57.415937Z"
    }
   },
   "id": "82904e301cdc4516",
   "outputs": [],
   "execution_count": 1
  },
  {
   "cell_type": "markdown",
   "source": [
    "Input data files are available in the read-only _\"repositories/Supply chain logistics problem.xlsx\"_ directory\n",
    "**For example**, running this (by clicking run or pressing Shift+Enter) will list all files under the input directory"
   ],
   "metadata": {
    "collapsed": false
   },
   "id": "5369e970920ab4fb"
  },
  {
   "cell_type": "code",
   "source": [
    "freight = pd.read_excel('repositories/Supply chain logistics problem.xlsx', sheet_name = 'FreightRates')\n",
    "order = pd.read_excel('repositories/Supply chain logistics problem.xlsx', sheet_name = 'OrderList')\n",
    "plant_ports = pd.read_excel('repositories/Supply chain logistics problem.xlsx', sheet_name = 'PlantPorts')\n",
    "prod_per_plant = pd.read_excel('repositories/Supply chain logistics problem.xlsx', sheet_name = 'ProductsPerPlant')\n",
    "vmi_cust = pd.read_excel('repositories/Supply chain logistics problem.xlsx', sheet_name = 'VmiCustomers')\n",
    "wh_cap = pd.read_excel('repositories/Supply chain logistics problem.xlsx', sheet_name = 'WhCapacities')\n",
    "wh_costs = pd.read_excel('repositories/Supply chain logistics problem.xlsx', sheet_name = 'WhCosts')"
   ],
   "metadata": {
    "collapsed": false,
    "ExecuteTime": {
     "end_time": "2024-05-05T14:23:10.452351Z",
     "start_time": "2024-05-05T14:22:25.494407Z"
    }
   },
   "id": "24381c2a18f96585",
   "outputs": [],
   "execution_count": 2
  },
  {
   "cell_type": "code",
   "source": [
    "wh_cap.head()"
   ],
   "metadata": {
    "collapsed": false,
    "ExecuteTime": {
     "end_time": "2024-05-05T14:35:56.583048Z",
     "start_time": "2024-05-05T14:35:56.499339Z"
    }
   },
   "id": "1a310f723430d0cb",
   "outputs": [
    {
     "data": {
      "text/plain": [
       "  Plant ID  Daily Capacity \n",
       "0  PLANT15               11\n",
       "1  PLANT17                8\n",
       "2  PLANT18              111\n",
       "3  PLANT05              385\n",
       "4  PLANT02              138"
      ],
      "text/html": [
       "<div>\n",
       "<style scoped>\n",
       "    .dataframe tbody tr th:only-of-type {\n",
       "        vertical-align: middle;\n",
       "    }\n",
       "\n",
       "    .dataframe tbody tr th {\n",
       "        vertical-align: top;\n",
       "    }\n",
       "\n",
       "    .dataframe thead th {\n",
       "        text-align: right;\n",
       "    }\n",
       "</style>\n",
       "<table border=\"1\" class=\"dataframe\">\n",
       "  <thead>\n",
       "    <tr style=\"text-align: right;\">\n",
       "      <th></th>\n",
       "      <th>Plant ID</th>\n",
       "      <th>Daily Capacity</th>\n",
       "    </tr>\n",
       "  </thead>\n",
       "  <tbody>\n",
       "    <tr>\n",
       "      <th>0</th>\n",
       "      <td>PLANT15</td>\n",
       "      <td>11</td>\n",
       "    </tr>\n",
       "    <tr>\n",
       "      <th>1</th>\n",
       "      <td>PLANT17</td>\n",
       "      <td>8</td>\n",
       "    </tr>\n",
       "    <tr>\n",
       "      <th>2</th>\n",
       "      <td>PLANT18</td>\n",
       "      <td>111</td>\n",
       "    </tr>\n",
       "    <tr>\n",
       "      <th>3</th>\n",
       "      <td>PLANT05</td>\n",
       "      <td>385</td>\n",
       "    </tr>\n",
       "    <tr>\n",
       "      <th>4</th>\n",
       "      <td>PLANT02</td>\n",
       "      <td>138</td>\n",
       "    </tr>\n",
       "  </tbody>\n",
       "</table>\n",
       "</div>"
      ]
     },
     "execution_count": 7,
     "metadata": {},
     "output_type": "execute_result"
    }
   ],
   "execution_count": 7
  },
  {
   "cell_type": "markdown",
   "source": [
    "**This code is to create a dictionary that maps origin port codes to destination port codes.**\n",
    "_In other words, it takes two columns between 'orig_port_cd' and 'dest_port_cs' from a freight DataFrame, where one column contains origin port codes and the other contains destination port codes, then generates a dictionary where each origin port code is mapped to its corresponding destination port code._"
   ],
   "metadata": {
    "collapsed": false
   },
   "id": "d052e301d7a71171"
  },
  {
   "cell_type": "code",
   "outputs": [
    {
     "data": {
      "text/plain": "{'PORT08': 'PORT09',\n 'PORT10': 'PORT09',\n 'PORT09': 'PORT09',\n 'PORT11': 'PORT09',\n 'PORT04': 'PORT09',\n 'PORT02': 'PORT09',\n 'PORT03': 'PORT09',\n 'PORT07': 'PORT09',\n 'PORT05': 'PORT09',\n 'PORT06': 'PORT09'}"
     },
     "execution_count": 72,
     "metadata": {},
     "output_type": "execute_result"
    }
   ],
   "source": [
    "dict(zip(freight['orig_port_cd'], freight['dest_port_cd']))"
   ],
   "metadata": {
    "collapsed": false,
    "ExecuteTime": {
     "end_time": "2024-05-02T09:39:40.817828Z",
     "start_time": "2024-05-02T09:39:40.810408Z"
    }
   },
   "id": "f392f7bff4663a4e",
   "execution_count": 72
  },
  {
   "cell_type": "markdown",
   "source": [
    "**We checks for missing values (null values) in each column of the DataFrame freight and returns the sum of null values for each column.\n",
    "It's essentially a quick way to assess the completeness of data in each column of the DataFrame.**"
   ],
   "metadata": {
    "collapsed": false
   },
   "id": "ac4fd3cdff424d2e"
  },
  {
   "cell_type": "code",
   "outputs": [
    {
     "data": {
      "text/plain": "Carrier         0\norig_port_cd    0\ndest_port_cd    0\nminm_wgh_qty    0\nmax_wgh_qty     0\nsvc_cd          0\nminimum cost    0\nrate            0\nmode_dsc        0\ntpt_day_cnt     0\nCarrier type    0\ndtype: int64"
     },
     "execution_count": 73,
     "metadata": {},
     "output_type": "execute_result"
    }
   ],
   "source": [
    "freight.isnull().sum()"
   ],
   "metadata": {
    "collapsed": false,
    "ExecuteTime": {
     "end_time": "2024-05-02T09:39:40.829501Z",
     "start_time": "2024-05-02T09:39:40.820349Z"
    }
   },
   "id": "2d22ce6c8f2acab",
   "execution_count": 73
  },
  {
   "cell_type": "markdown",
   "source": [
    "**Serves the same purpose as the previous one, but it's applied to a DataFrame named order instead of freight. \n",
    "It checks for missing values in each column of the order DataFrame and returns the sum of null values for each column.**"
   ],
   "metadata": {
    "collapsed": false
   },
   "id": "61b27a1343b47325"
  },
  {
   "cell_type": "code",
   "outputs": [
    {
     "data": {
      "text/plain": "Order ID                0\nOrder Date              0\nOrigin Port             0\nCarrier                 0\nTPT                     0\nService Level           0\nShip ahead day count    0\nShip Late Day count     0\nCustomer                0\nProduct ID              0\nPlant Code              0\nDestination Port        0\nUnit quantity           0\nWeight                  0\ndtype: int64"
     },
     "execution_count": 74,
     "metadata": {},
     "output_type": "execute_result"
    }
   ],
   "source": [
    "order.isnull().sum()"
   ],
   "metadata": {
    "collapsed": false,
    "ExecuteTime": {
     "end_time": "2024-05-02T09:39:40.845768Z",
     "start_time": "2024-05-02T09:39:40.832511Z"
    }
   },
   "id": "eabc9176ce5e8425",
   "execution_count": 74
  },
  {
   "cell_type": "markdown",
   "source": [
    "**Serves the same purpose as the previous, but it's applied to a DataFrame named order instead of freight. \n",
    "It checks for missing values in each column of the plant_ports DataFrame and returns the sum of null values for each column.**"
   ],
   "metadata": {
    "collapsed": false
   },
   "id": "ec78feb8c9495bff"
  },
  {
   "cell_type": "code",
   "outputs": [
    {
     "data": {
      "text/plain": "Plant Code    0\nPort          0\ndtype: int64"
     },
     "execution_count": 75,
     "metadata": {},
     "output_type": "execute_result"
    }
   ],
   "source": [
    "plant_ports.isnull().sum()"
   ],
   "metadata": {
    "collapsed": false,
    "ExecuteTime": {
     "end_time": "2024-05-02T09:39:40.854922Z",
     "start_time": "2024-05-02T09:39:40.846777Z"
    }
   },
   "id": "21b8b36501321889",
   "execution_count": 75
  },
  {
   "cell_type": "markdown",
   "source": [
    "**Serves the same purpose as the previous, but it's applied to a DataFrame named order instead of freight. \n",
    "It checks for missing values in each column of the prod_per_plant DataFrame and returns the sum of null values for each column.**"
   ],
   "metadata": {
    "collapsed": false
   },
   "id": "e429b6fabc3db0ae"
  },
  {
   "cell_type": "code",
   "outputs": [
    {
     "data": {
      "text/plain": "Plant Code    0\nProduct ID    0\ndtype: int64"
     },
     "execution_count": 76,
     "metadata": {},
     "output_type": "execute_result"
    }
   ],
   "source": [
    "prod_per_plant.isnull().sum()\n"
   ],
   "metadata": {
    "collapsed": false,
    "ExecuteTime": {
     "end_time": "2024-05-02T09:39:40.864940Z",
     "start_time": "2024-05-02T09:39:40.856936Z"
    }
   },
   "id": "98e72a49c681973c",
   "execution_count": 76
  },
  {
   "cell_type": "markdown",
   "source": [
    "**Serves the same purpose as the previous, but it's applied to a DataFrame named order instead of freight. \n",
    "It checks for missing values in each column of the vmi_cust DataFrame and returns the sum of null values for each column.**"
   ],
   "metadata": {
    "collapsed": false
   },
   "id": "ec767c73f62bacc7"
  },
  {
   "cell_type": "code",
   "outputs": [
    {
     "data": {
      "text/plain": "Plant Code    0\nCustomers     0\ndtype: int64"
     },
     "execution_count": 77,
     "metadata": {},
     "output_type": "execute_result"
    }
   ],
   "source": [
    "vmi_cust.isnull().sum()"
   ],
   "metadata": {
    "collapsed": false,
    "ExecuteTime": {
     "end_time": "2024-05-02T09:39:40.875296Z",
     "start_time": "2024-05-02T09:39:40.865949Z"
    }
   },
   "id": "1cddf064e876bf81",
   "execution_count": 77
  },
  {
   "cell_type": "markdown",
   "source": [
    "**Serves the same purpose as the previous, but it's applied to a DataFrame named order instead of freight. \n",
    "It checks for missing values in each column of the wh_cap DataFrame and returns the sum of null values for each column.**"
   ],
   "metadata": {
    "collapsed": false
   },
   "id": "5d535fa2dac43790"
  },
  {
   "cell_type": "code",
   "outputs": [
    {
     "data": {
      "text/plain": "Plant ID           0\nDaily Capacity     0\ndtype: int64"
     },
     "execution_count": 78,
     "metadata": {},
     "output_type": "execute_result"
    }
   ],
   "source": [
    "wh_cap.isnull().sum()"
   ],
   "metadata": {
    "collapsed": false,
    "ExecuteTime": {
     "end_time": "2024-05-02T09:39:40.887036Z",
     "start_time": "2024-05-02T09:39:40.877305Z"
    }
   },
   "id": "e39d61c06f24ebc0",
   "execution_count": 78
  },
  {
   "cell_type": "markdown",
   "source": [
    "**Serves the same purpose as the previous, but it's applied to a DataFrame named order instead of freight. \n",
    "It checks for missing values in each column of the wh_costs DataFrame and returns the sum of null values for each column.**"
   ],
   "metadata": {
    "collapsed": false
   },
   "id": "3ffd12d714c03581"
  },
  {
   "cell_type": "code",
   "outputs": [
    {
     "data": {
      "text/plain": "WH           0\nCost/unit    0\ndtype: int64"
     },
     "execution_count": 79,
     "metadata": {},
     "output_type": "execute_result"
    }
   ],
   "source": [
    "wh_costs.isnull().sum()"
   ],
   "metadata": {
    "collapsed": false,
    "ExecuteTime": {
     "end_time": "2024-05-02T09:39:40.902551Z",
     "start_time": "2024-05-02T09:39:40.892044Z"
    }
   },
   "id": "b584da4ee96d1a95",
   "execution_count": 79
  },
  {
   "cell_type": "markdown",
   "source": [
    "Column Selection:\n",
    ">It selects specific columns from the DataFrame order, including 'Order Date', 'Order ID', 'Carrier', 'Origin Port', 'Destination Port', 'Unit quantity', and 'Weight'. The selected columns are assigned back to the variable order.\n",
    "\n",
    "Merging DataFrames: \n",
    ">It merges the order DataFrame with another DataFrame named plant_ports based on the 'Origin Port' column. The resulting merged DataFrame is assigned to df_merge.\n",
    "\n",
    "Column Renaming:\n",
    ">It renames the column 'Plant Code' in df_merge to 'origin_plant_code'.\n",
    "\n",
    "Column Dropping:\n",
    ">It drops the 'Port' column from df_merge.\n",
    "\n",
    "Second Merging:\n",
    ">It merges df_merge with plant_ports again, this time based on the 'Destination Port' column.\n",
    "\n",
    "Column Dropping (again):\n",
    "> It drops the 'Port' column from df_merge again. \n",
    "\n",
    "Column Renaming (again):\n",
    "> It renames the column 'Plant Code' in df_merge to 'destination_plant_code'.\n",
    "\n",
    "In summary, this code prepares and organizes data by selecting specific columns, merging data from different DataFrames, renaming columns, and dropping unnecessary columns, ultimately creating a DataFrame df_merge that likely includes information about orders, carriers, origin and destination ports, quantities, weights, and corresponding plant codes for both origin and destination."
   ],
   "metadata": {
    "collapsed": false
   },
   "id": "c354bcbaa4894ec5"
  },
  {
   "cell_type": "code",
   "outputs": [
    {
     "data": {
      "text/plain": "  Order Date      Order ID Carrier Origin Port Destination Port  \\\n0 2013-05-26  1.447296e+09   V44_3      PORT09           PORT09   \n1 2013-05-26  1.447158e+09   V44_3      PORT09           PORT09   \n2 2013-05-26  1.447139e+09   V44_3      PORT09           PORT09   \n3 2013-05-26  1.447364e+09   V44_3      PORT09           PORT09   \n4 2013-05-26  1.447364e+09   V44_3      PORT09           PORT09   \n\n   Unit quantity  Weight origin_plant_code destination_plant_code  \n0            808   14.30           PLANT16                PLANT16  \n1           3188   87.94           PLANT16                PLANT16  \n2           2331   61.20           PLANT16                PLANT16  \n3            847   16.16           PLANT16                PLANT16  \n4           2163   52.34           PLANT16                PLANT16  ",
      "text/html": "<div>\n<style scoped>\n    .dataframe tbody tr th:only-of-type {\n        vertical-align: middle;\n    }\n\n    .dataframe tbody tr th {\n        vertical-align: top;\n    }\n\n    .dataframe thead th {\n        text-align: right;\n    }\n</style>\n<table border=\"1\" class=\"dataframe\">\n  <thead>\n    <tr style=\"text-align: right;\">\n      <th></th>\n      <th>Order Date</th>\n      <th>Order ID</th>\n      <th>Carrier</th>\n      <th>Origin Port</th>\n      <th>Destination Port</th>\n      <th>Unit quantity</th>\n      <th>Weight</th>\n      <th>origin_plant_code</th>\n      <th>destination_plant_code</th>\n    </tr>\n  </thead>\n  <tbody>\n    <tr>\n      <th>0</th>\n      <td>2013-05-26</td>\n      <td>1.447296e+09</td>\n      <td>V44_3</td>\n      <td>PORT09</td>\n      <td>PORT09</td>\n      <td>808</td>\n      <td>14.30</td>\n      <td>PLANT16</td>\n      <td>PLANT16</td>\n    </tr>\n    <tr>\n      <th>1</th>\n      <td>2013-05-26</td>\n      <td>1.447158e+09</td>\n      <td>V44_3</td>\n      <td>PORT09</td>\n      <td>PORT09</td>\n      <td>3188</td>\n      <td>87.94</td>\n      <td>PLANT16</td>\n      <td>PLANT16</td>\n    </tr>\n    <tr>\n      <th>2</th>\n      <td>2013-05-26</td>\n      <td>1.447139e+09</td>\n      <td>V44_3</td>\n      <td>PORT09</td>\n      <td>PORT09</td>\n      <td>2331</td>\n      <td>61.20</td>\n      <td>PLANT16</td>\n      <td>PLANT16</td>\n    </tr>\n    <tr>\n      <th>3</th>\n      <td>2013-05-26</td>\n      <td>1.447364e+09</td>\n      <td>V44_3</td>\n      <td>PORT09</td>\n      <td>PORT09</td>\n      <td>847</td>\n      <td>16.16</td>\n      <td>PLANT16</td>\n      <td>PLANT16</td>\n    </tr>\n    <tr>\n      <th>4</th>\n      <td>2013-05-26</td>\n      <td>1.447364e+09</td>\n      <td>V44_3</td>\n      <td>PORT09</td>\n      <td>PORT09</td>\n      <td>2163</td>\n      <td>52.34</td>\n      <td>PLANT16</td>\n      <td>PLANT16</td>\n    </tr>\n  </tbody>\n</table>\n</div>"
     },
     "execution_count": 80,
     "metadata": {},
     "output_type": "execute_result"
    }
   ],
   "source": [
    "order = order[['Order Date','Order ID','Carrier','Origin Port','Destination Port','Unit quantity','Weight']]\n",
    "\n",
    "df_merge = pd.merge(order, plant_ports, left_on = ['Origin Port'], right_on = ['Port'])\n",
    "df_merge = df_merge.rename(columns = {'Plant Code' : 'origin_plant_code'})\n",
    "df_merge = df_merge.drop(['Port'], axis = 1)\n",
    "df_merge = pd.merge(df_merge, plant_ports, left_on = ['Destination Port'], right_on = ['Port'])\n",
    "df_merge = df_merge.drop(['Port'], axis = 1)\n",
    "df_merge = df_merge.rename(columns = {'Plant Code' : 'destination_plant_code'})\n",
    "df_merge.head()"
   ],
   "metadata": {
    "collapsed": false,
    "ExecuteTime": {
     "end_time": "2024-05-02T09:39:41.009814Z",
     "start_time": "2024-05-02T09:39:40.905560Z"
    }
   },
   "id": "3971ef8731128104",
   "execution_count": 80
  },
  {
   "cell_type": "markdown",
   "source": [
    "Grouping and Aggregating Data: \n",
    ">It groups the DataFrame freight by three columns: 'Carrier', 'orig_port_cd', and 'dest_port_cd'. Then, it aggregates the data within each group using custom aggregation functions defined using lambda functions. Specifically:\n",
    "- 'minm_wgh_qty'\n",
    "- 'max_wgh_qty'\n",
    "- 'rate'\n",
    "- 'minimum cost' columns\n",
    ">It calculates the average value within each group.\n",
    "Resetting Index: After the aggregation, it resets the index of the resulting DataFrame.\n",
    "Column Renaming: It renames the columns 'minimum cost' and 'minm_wgh_qty' to 'min_cost' and 'min_wgh_qty', respectively.\n",
    "Displaying the Result: Finally, it displays the resulting DataFrame freight_new, which contains aggregated information about carriers, origin ports, destination ports, and the average values of 'minm_wgh_qty', 'max_wgh_qty', 'rate', and 'minimum cost' for each group."
   ],
   "metadata": {
    "collapsed": false
   },
   "id": "f622fe525444813"
  },
  {
   "cell_type": "code",
   "outputs": [
    {
     "data": {
      "text/plain": "   Carrier orig_port_cd dest_port_cd  min_wgh_qty   max_wgh_qty        rate  \\\n0   V444_0       PORT02       PORT09   570.000000  20569.990000    0.084480   \n1   V444_0       PORT03       PORT09     0.000000   5000.000000   12.694200   \n2   V444_0       PORT04       PORT09   570.000000  20569.990000    0.052000   \n3   V444_0       PORT09       PORT09     0.000000   5000.000000   12.778400   \n4   V444_1       PORT02       PORT09   197.556000   1190.745000    0.291140   \n5   V444_1       PORT04       PORT09   197.556000   1190.745000    0.242000   \n6   V444_1       PORT05       PORT09   170.130000   1001.952500    0.457895   \n7   V444_1       PORT06       PORT09    45.473493    111.272697    2.492247   \n8   V444_1       PORT10       PORT09    78.945000  12570.433750    0.431400   \n9   V444_2       PORT02       PORT09   570.000000  20569.990000    0.079040   \n10  V444_2       PORT07       PORT09   570.000000  20569.990000    0.197100   \n11  V444_2       PORT08       PORT09   570.000000  20569.990000    0.136347   \n12  V444_2       PORT10       PORT09   570.000000  20569.990000    0.171720   \n13  V444_2       PORT11       PORT09   570.000000  20569.990000    0.094053   \n14  V444_4       PORT02       PORT09    37.509934    699.751589    2.738511   \n15  V444_4       PORT04       PORT09    37.509934    699.751589    2.880403   \n16  V444_4       PORT05       PORT09    37.509934    699.751589    4.007359   \n17  V444_4       PORT06       PORT09    37.509934    699.751589    2.748445   \n18  V444_4       PORT10       PORT09    34.023906    334.411423    7.643146   \n19  V444_5       PORT02       PORT09   570.000000  20569.990000    0.066784   \n20  V444_5       PORT03       PORT09     0.000000   5000.000000   13.610867   \n21  V444_5       PORT05       PORT09   570.000000  20569.990000    0.099180   \n22  V444_5       PORT06       PORT09   570.000000  20569.990000    0.163680   \n23  V444_5       PORT09       PORT09     0.000000   5000.000000   20.778400   \n24  V444_6       PORT08       PORT09   177.631579   5440.779474    1.075095   \n25  V444_6       PORT10       PORT09   177.631579   5440.779474    1.075095   \n26  V444_7       PORT03       PORT09     0.000000   5000.000000  128.027200   \n27  V444_8       PORT02       PORT09   570.000000  20569.990000    0.092800   \n28  V444_8       PORT03       PORT09   570.000000  20569.990000    0.269200   \n29  V444_8       PORT04       PORT09   570.000000  20569.990000    0.132200   \n30  V444_8       PORT09       PORT09   570.000000  20569.990000    0.048200   \n31  V444_8       PORT11       PORT09   570.000000  20569.990000    0.165160   \n32  V444_9       PORT08       PORT09  3300.000000  23299.990000    0.125520   \n\n      min_cost  \n0    23.838400  \n1    28.944200  \n2     2.477200  \n3    31.278400  \n4    23.557340  \n5    20.909780  \n6    35.954091  \n7     6.917300  \n8    12.350850  \n9     9.027200  \n10   18.877200  \n11   20.360533  \n12   15.827200  \n13   12.827200  \n14    6.063846  \n15    6.069823  \n16    8.438127  \n17    6.063846  \n18    7.217756  \n19    5.315200  \n20   28.944200  \n21    9.007200  \n22   14.331200  \n23   31.278400  \n24   43.227200  \n25   43.227200  \n26  425.027200  \n27   23.299100  \n28   25.426200  \n29   27.778500  \n30   23.529200  \n31   17.875200  \n32  231.307200  ",
      "text/html": "<div>\n<style scoped>\n    .dataframe tbody tr th:only-of-type {\n        vertical-align: middle;\n    }\n\n    .dataframe tbody tr th {\n        vertical-align: top;\n    }\n\n    .dataframe thead th {\n        text-align: right;\n    }\n</style>\n<table border=\"1\" class=\"dataframe\">\n  <thead>\n    <tr style=\"text-align: right;\">\n      <th></th>\n      <th>Carrier</th>\n      <th>orig_port_cd</th>\n      <th>dest_port_cd</th>\n      <th>min_wgh_qty</th>\n      <th>max_wgh_qty</th>\n      <th>rate</th>\n      <th>min_cost</th>\n    </tr>\n  </thead>\n  <tbody>\n    <tr>\n      <th>0</th>\n      <td>V444_0</td>\n      <td>PORT02</td>\n      <td>PORT09</td>\n      <td>570.000000</td>\n      <td>20569.990000</td>\n      <td>0.084480</td>\n      <td>23.838400</td>\n    </tr>\n    <tr>\n      <th>1</th>\n      <td>V444_0</td>\n      <td>PORT03</td>\n      <td>PORT09</td>\n      <td>0.000000</td>\n      <td>5000.000000</td>\n      <td>12.694200</td>\n      <td>28.944200</td>\n    </tr>\n    <tr>\n      <th>2</th>\n      <td>V444_0</td>\n      <td>PORT04</td>\n      <td>PORT09</td>\n      <td>570.000000</td>\n      <td>20569.990000</td>\n      <td>0.052000</td>\n      <td>2.477200</td>\n    </tr>\n    <tr>\n      <th>3</th>\n      <td>V444_0</td>\n      <td>PORT09</td>\n      <td>PORT09</td>\n      <td>0.000000</td>\n      <td>5000.000000</td>\n      <td>12.778400</td>\n      <td>31.278400</td>\n    </tr>\n    <tr>\n      <th>4</th>\n      <td>V444_1</td>\n      <td>PORT02</td>\n      <td>PORT09</td>\n      <td>197.556000</td>\n      <td>1190.745000</td>\n      <td>0.291140</td>\n      <td>23.557340</td>\n    </tr>\n    <tr>\n      <th>5</th>\n      <td>V444_1</td>\n      <td>PORT04</td>\n      <td>PORT09</td>\n      <td>197.556000</td>\n      <td>1190.745000</td>\n      <td>0.242000</td>\n      <td>20.909780</td>\n    </tr>\n    <tr>\n      <th>6</th>\n      <td>V444_1</td>\n      <td>PORT05</td>\n      <td>PORT09</td>\n      <td>170.130000</td>\n      <td>1001.952500</td>\n      <td>0.457895</td>\n      <td>35.954091</td>\n    </tr>\n    <tr>\n      <th>7</th>\n      <td>V444_1</td>\n      <td>PORT06</td>\n      <td>PORT09</td>\n      <td>45.473493</td>\n      <td>111.272697</td>\n      <td>2.492247</td>\n      <td>6.917300</td>\n    </tr>\n    <tr>\n      <th>8</th>\n      <td>V444_1</td>\n      <td>PORT10</td>\n      <td>PORT09</td>\n      <td>78.945000</td>\n      <td>12570.433750</td>\n      <td>0.431400</td>\n      <td>12.350850</td>\n    </tr>\n    <tr>\n      <th>9</th>\n      <td>V444_2</td>\n      <td>PORT02</td>\n      <td>PORT09</td>\n      <td>570.000000</td>\n      <td>20569.990000</td>\n      <td>0.079040</td>\n      <td>9.027200</td>\n    </tr>\n    <tr>\n      <th>10</th>\n      <td>V444_2</td>\n      <td>PORT07</td>\n      <td>PORT09</td>\n      <td>570.000000</td>\n      <td>20569.990000</td>\n      <td>0.197100</td>\n      <td>18.877200</td>\n    </tr>\n    <tr>\n      <th>11</th>\n      <td>V444_2</td>\n      <td>PORT08</td>\n      <td>PORT09</td>\n      <td>570.000000</td>\n      <td>20569.990000</td>\n      <td>0.136347</td>\n      <td>20.360533</td>\n    </tr>\n    <tr>\n      <th>12</th>\n      <td>V444_2</td>\n      <td>PORT10</td>\n      <td>PORT09</td>\n      <td>570.000000</td>\n      <td>20569.990000</td>\n      <td>0.171720</td>\n      <td>15.827200</td>\n    </tr>\n    <tr>\n      <th>13</th>\n      <td>V444_2</td>\n      <td>PORT11</td>\n      <td>PORT09</td>\n      <td>570.000000</td>\n      <td>20569.990000</td>\n      <td>0.094053</td>\n      <td>12.827200</td>\n    </tr>\n    <tr>\n      <th>14</th>\n      <td>V444_4</td>\n      <td>PORT02</td>\n      <td>PORT09</td>\n      <td>37.509934</td>\n      <td>699.751589</td>\n      <td>2.738511</td>\n      <td>6.063846</td>\n    </tr>\n    <tr>\n      <th>15</th>\n      <td>V444_4</td>\n      <td>PORT04</td>\n      <td>PORT09</td>\n      <td>37.509934</td>\n      <td>699.751589</td>\n      <td>2.880403</td>\n      <td>6.069823</td>\n    </tr>\n    <tr>\n      <th>16</th>\n      <td>V444_4</td>\n      <td>PORT05</td>\n      <td>PORT09</td>\n      <td>37.509934</td>\n      <td>699.751589</td>\n      <td>4.007359</td>\n      <td>8.438127</td>\n    </tr>\n    <tr>\n      <th>17</th>\n      <td>V444_4</td>\n      <td>PORT06</td>\n      <td>PORT09</td>\n      <td>37.509934</td>\n      <td>699.751589</td>\n      <td>2.748445</td>\n      <td>6.063846</td>\n    </tr>\n    <tr>\n      <th>18</th>\n      <td>V444_4</td>\n      <td>PORT10</td>\n      <td>PORT09</td>\n      <td>34.023906</td>\n      <td>334.411423</td>\n      <td>7.643146</td>\n      <td>7.217756</td>\n    </tr>\n    <tr>\n      <th>19</th>\n      <td>V444_5</td>\n      <td>PORT02</td>\n      <td>PORT09</td>\n      <td>570.000000</td>\n      <td>20569.990000</td>\n      <td>0.066784</td>\n      <td>5.315200</td>\n    </tr>\n    <tr>\n      <th>20</th>\n      <td>V444_5</td>\n      <td>PORT03</td>\n      <td>PORT09</td>\n      <td>0.000000</td>\n      <td>5000.000000</td>\n      <td>13.610867</td>\n      <td>28.944200</td>\n    </tr>\n    <tr>\n      <th>21</th>\n      <td>V444_5</td>\n      <td>PORT05</td>\n      <td>PORT09</td>\n      <td>570.000000</td>\n      <td>20569.990000</td>\n      <td>0.099180</td>\n      <td>9.007200</td>\n    </tr>\n    <tr>\n      <th>22</th>\n      <td>V444_5</td>\n      <td>PORT06</td>\n      <td>PORT09</td>\n      <td>570.000000</td>\n      <td>20569.990000</td>\n      <td>0.163680</td>\n      <td>14.331200</td>\n    </tr>\n    <tr>\n      <th>23</th>\n      <td>V444_5</td>\n      <td>PORT09</td>\n      <td>PORT09</td>\n      <td>0.000000</td>\n      <td>5000.000000</td>\n      <td>20.778400</td>\n      <td>31.278400</td>\n    </tr>\n    <tr>\n      <th>24</th>\n      <td>V444_6</td>\n      <td>PORT08</td>\n      <td>PORT09</td>\n      <td>177.631579</td>\n      <td>5440.779474</td>\n      <td>1.075095</td>\n      <td>43.227200</td>\n    </tr>\n    <tr>\n      <th>25</th>\n      <td>V444_6</td>\n      <td>PORT10</td>\n      <td>PORT09</td>\n      <td>177.631579</td>\n      <td>5440.779474</td>\n      <td>1.075095</td>\n      <td>43.227200</td>\n    </tr>\n    <tr>\n      <th>26</th>\n      <td>V444_7</td>\n      <td>PORT03</td>\n      <td>PORT09</td>\n      <td>0.000000</td>\n      <td>5000.000000</td>\n      <td>128.027200</td>\n      <td>425.027200</td>\n    </tr>\n    <tr>\n      <th>27</th>\n      <td>V444_8</td>\n      <td>PORT02</td>\n      <td>PORT09</td>\n      <td>570.000000</td>\n      <td>20569.990000</td>\n      <td>0.092800</td>\n      <td>23.299100</td>\n    </tr>\n    <tr>\n      <th>28</th>\n      <td>V444_8</td>\n      <td>PORT03</td>\n      <td>PORT09</td>\n      <td>570.000000</td>\n      <td>20569.990000</td>\n      <td>0.269200</td>\n      <td>25.426200</td>\n    </tr>\n    <tr>\n      <th>29</th>\n      <td>V444_8</td>\n      <td>PORT04</td>\n      <td>PORT09</td>\n      <td>570.000000</td>\n      <td>20569.990000</td>\n      <td>0.132200</td>\n      <td>27.778500</td>\n    </tr>\n    <tr>\n      <th>30</th>\n      <td>V444_8</td>\n      <td>PORT09</td>\n      <td>PORT09</td>\n      <td>570.000000</td>\n      <td>20569.990000</td>\n      <td>0.048200</td>\n      <td>23.529200</td>\n    </tr>\n    <tr>\n      <th>31</th>\n      <td>V444_8</td>\n      <td>PORT11</td>\n      <td>PORT09</td>\n      <td>570.000000</td>\n      <td>20569.990000</td>\n      <td>0.165160</td>\n      <td>17.875200</td>\n    </tr>\n    <tr>\n      <th>32</th>\n      <td>V444_9</td>\n      <td>PORT08</td>\n      <td>PORT09</td>\n      <td>3300.000000</td>\n      <td>23299.990000</td>\n      <td>0.125520</td>\n      <td>231.307200</td>\n    </tr>\n  </tbody>\n</table>\n</div>"
     },
     "execution_count": 81,
     "metadata": {},
     "output_type": "execute_result"
    }
   ],
   "source": [
    "freight_new = (freight.groupby(['Carrier',\n",
    "                               'orig_port_cd',\n",
    "                               'dest_port_cd']).agg({'minm_wgh_qty': lambda x: sum(x)/len(x),\n",
    "                                                     'max_wgh_qty': lambda x: sum(x)/len(x),\n",
    "                                                     'rate': lambda x: sum(x)/len(x),\n",
    "                                                     'minimum cost': lambda x: sum(x)/len(x)}).reset_index()\n",
    "               .rename(columns = {'minimum cost': 'min_cost', 'minm_wgh_qty': 'min_wgh_qty'}))\n",
    "\n",
    "freight_new"
   ],
   "metadata": {
    "collapsed": false,
    "ExecuteTime": {
     "end_time": "2024-05-02T09:39:41.044112Z",
     "start_time": "2024-05-02T09:39:41.011822Z"
    }
   },
   "id": "cad361111ae0d67d",
   "execution_count": 81
  },
  {
   "cell_type": "markdown",
   "source": [
    "Generate Cost Between Origin and Destination\n",
    ">From PORT02 to PORT11 in chronological order w/ the same destination to PORT09"
   ],
   "metadata": {
    "collapsed": false
   },
   "id": "f271192ec028fbf1"
  },
  {
   "cell_type": "code",
   "outputs": [
    {
     "data": {
      "text/plain": "[[2.0], [8.0], [24.0]]"
     },
     "execution_count": 82,
     "metadata": {},
     "output_type": "execute_result"
    }
   ],
   "source": [
    "cost = freight_new.groupby(['orig_port_cd','dest_port_cd'])['min_cost'].min().unstack()\n",
    "cost = round(cost,0)\n",
    "cost = cost[cost.index.isin(df_merge['Origin Port'])]\n",
    "cost_pulp = cost.to_numpy().tolist()\n",
    "cost_pulp"
   ],
   "metadata": {
    "collapsed": false,
    "ExecuteTime": {
     "end_time": "2024-05-02T09:39:41.059607Z",
     "start_time": "2024-05-02T09:39:41.046119Z"
    }
   },
   "id": "7461af507c20b8f2",
   "execution_count": 82
  },
  {
   "cell_type": "markdown",
   "source": [
    "**Check the cost**"
   ],
   "metadata": {
    "collapsed": false
   },
   "id": "cafd65afac4f4198"
  },
  {
   "cell_type": "code",
   "outputs": [
    {
     "data": {
      "text/plain": "dest_port_cd  PORT09\norig_port_cd        \nPORT04           2.0\nPORT05           8.0\nPORT09          24.0",
      "text/html": "<div>\n<style scoped>\n    .dataframe tbody tr th:only-of-type {\n        vertical-align: middle;\n    }\n\n    .dataframe tbody tr th {\n        vertical-align: top;\n    }\n\n    .dataframe thead th {\n        text-align: right;\n    }\n</style>\n<table border=\"1\" class=\"dataframe\">\n  <thead>\n    <tr style=\"text-align: right;\">\n      <th>dest_port_cd</th>\n      <th>PORT09</th>\n    </tr>\n    <tr>\n      <th>orig_port_cd</th>\n      <th></th>\n    </tr>\n  </thead>\n  <tbody>\n    <tr>\n      <th>PORT04</th>\n      <td>2.0</td>\n    </tr>\n    <tr>\n      <th>PORT05</th>\n      <td>8.0</td>\n    </tr>\n    <tr>\n      <th>PORT09</th>\n      <td>24.0</td>\n    </tr>\n  </tbody>\n</table>\n</div>"
     },
     "execution_count": 83,
     "metadata": {},
     "output_type": "execute_result"
    }
   ],
   "source": [
    "cost"
   ],
   "metadata": {
    "collapsed": false,
    "ExecuteTime": {
     "end_time": "2024-05-02T09:39:41.072281Z",
     "start_time": "2024-05-02T09:39:41.061619Z"
    }
   },
   "id": "9f1974c453ad74c3",
   "execution_count": 83
  },
  {
   "cell_type": "markdown",
   "source": [
    "**Check the wh_cap**"
   ],
   "metadata": {
    "collapsed": false
   },
   "id": "ebd5f4bf8019ec1d"
  },
  {
   "cell_type": "code",
   "outputs": [
    {
     "data": {
      "text/plain": "   Plant ID  Daily Capacity \n0   PLANT15               11\n1   PLANT17                8\n2   PLANT18              111\n3   PLANT05              385\n4   PLANT02              138\n5   PLANT01             1070\n6   PLANT06               49\n7   PLANT10              118\n8   PLANT07              265\n9   PLANT14              549\n10  PLANT16              457\n11  PLANT12              209\n12  PLANT11              332\n13  PLANT09               11\n14  PLANT03             1013\n15  PLANT13              490\n16  PLANT19                7\n17  PLANT08               14\n18  PLANT04              554",
      "text/html": "<div>\n<style scoped>\n    .dataframe tbody tr th:only-of-type {\n        vertical-align: middle;\n    }\n\n    .dataframe tbody tr th {\n        vertical-align: top;\n    }\n\n    .dataframe thead th {\n        text-align: right;\n    }\n</style>\n<table border=\"1\" class=\"dataframe\">\n  <thead>\n    <tr style=\"text-align: right;\">\n      <th></th>\n      <th>Plant ID</th>\n      <th>Daily Capacity</th>\n    </tr>\n  </thead>\n  <tbody>\n    <tr>\n      <th>0</th>\n      <td>PLANT15</td>\n      <td>11</td>\n    </tr>\n    <tr>\n      <th>1</th>\n      <td>PLANT17</td>\n      <td>8</td>\n    </tr>\n    <tr>\n      <th>2</th>\n      <td>PLANT18</td>\n      <td>111</td>\n    </tr>\n    <tr>\n      <th>3</th>\n      <td>PLANT05</td>\n      <td>385</td>\n    </tr>\n    <tr>\n      <th>4</th>\n      <td>PLANT02</td>\n      <td>138</td>\n    </tr>\n    <tr>\n      <th>5</th>\n      <td>PLANT01</td>\n      <td>1070</td>\n    </tr>\n    <tr>\n      <th>6</th>\n      <td>PLANT06</td>\n      <td>49</td>\n    </tr>\n    <tr>\n      <th>7</th>\n      <td>PLANT10</td>\n      <td>118</td>\n    </tr>\n    <tr>\n      <th>8</th>\n      <td>PLANT07</td>\n      <td>265</td>\n    </tr>\n    <tr>\n      <th>9</th>\n      <td>PLANT14</td>\n      <td>549</td>\n    </tr>\n    <tr>\n      <th>10</th>\n      <td>PLANT16</td>\n      <td>457</td>\n    </tr>\n    <tr>\n      <th>11</th>\n      <td>PLANT12</td>\n      <td>209</td>\n    </tr>\n    <tr>\n      <th>12</th>\n      <td>PLANT11</td>\n      <td>332</td>\n    </tr>\n    <tr>\n      <th>13</th>\n      <td>PLANT09</td>\n      <td>11</td>\n    </tr>\n    <tr>\n      <th>14</th>\n      <td>PLANT03</td>\n      <td>1013</td>\n    </tr>\n    <tr>\n      <th>15</th>\n      <td>PLANT13</td>\n      <td>490</td>\n    </tr>\n    <tr>\n      <th>16</th>\n      <td>PLANT19</td>\n      <td>7</td>\n    </tr>\n    <tr>\n      <th>17</th>\n      <td>PLANT08</td>\n      <td>14</td>\n    </tr>\n    <tr>\n      <th>18</th>\n      <td>PLANT04</td>\n      <td>554</td>\n    </tr>\n  </tbody>\n</table>\n</div>"
     },
     "execution_count": 84,
     "metadata": {},
     "output_type": "execute_result"
    }
   ],
   "source": [
    "wh_cap"
   ],
   "metadata": {
    "collapsed": false,
    "ExecuteTime": {
     "end_time": "2024-05-02T09:39:41.083681Z",
     "start_time": "2024-05-02T09:39:41.074412Z"
    }
   },
   "id": "bb1e0d7dde7b65c5",
   "execution_count": 84
  },
  {
   "cell_type": "markdown",
   "source": [
    "Creating Lists of Unique Ports:\n",
    ">It extracts unique values from the 'Origin Port' and 'Destination Port' columns of the DataFrame df_merge and converts them into sorted lists, storing them in variables origins and destinations, respectively.\n",
    "\n",
    "Aggregating Data for Origins and Destinations:\n",
    ">It groups the df_merge DataFrame separately by 'Origin Port' and 'Destination Port', aggregating several metrics:\n",
    "\n",
    "   - Number of unique order IDs ('Order ID')\n",
    "   - Number of unique order dates ('Order Date')\n",
    "   - Total unit quantity ('Unit quantity')\n",
    "   - Total weight ('Weight')\n",
    "\n",
    "Calculating Averages:\n",
    ">It calculates the average quantity per order ('avg_qty') and the average weight per order ('avg_weight') for both origin and destination ports.\n",
    "\n",
    "Dropping Redundant Columns:\n",
    "> It drops the 'Order ID', 'Unit quantity', and 'Weight' columns from both df_origin and df_dest DataFrames, keeping only the aggregated metrics and calculated averages.\n",
    "\n",
    "Displaying the Result for Destinations:\n",
    ">Finally, it displays the resulting DataFrame df_dest, which contains aggregated information about unique order IDs, unique order dates, total unit quantity, total weight, and calculated average quantity and weight per order for each destination port."
   ],
   "metadata": {
    "collapsed": false
   },
   "id": "abac5aa8a50cf234"
  },
  {
   "cell_type": "code",
   "outputs": [
    {
     "data": {
      "text/plain": "  Destination Port  Order Date      avg_qty  avg_weight\n0           PORT09           1  205120319.0   1088803.0",
      "text/html": "<div>\n<style scoped>\n    .dataframe tbody tr th:only-of-type {\n        vertical-align: middle;\n    }\n\n    .dataframe tbody tr th {\n        vertical-align: top;\n    }\n\n    .dataframe thead th {\n        text-align: right;\n    }\n</style>\n<table border=\"1\" class=\"dataframe\">\n  <thead>\n    <tr style=\"text-align: right;\">\n      <th></th>\n      <th>Destination Port</th>\n      <th>Order Date</th>\n      <th>avg_qty</th>\n      <th>avg_weight</th>\n    </tr>\n  </thead>\n  <tbody>\n    <tr>\n      <th>0</th>\n      <td>PORT09</td>\n      <td>1</td>\n      <td>205120319.0</td>\n      <td>1088803.0</td>\n    </tr>\n  </tbody>\n</table>\n</div>"
     },
     "execution_count": 85,
     "metadata": {},
     "output_type": "execute_result"
    }
   ],
   "source": [
    "origins = df_merge['Origin Port'].unique().tolist()\n",
    "origins = sorted(origins)\n",
    "destinations = df_merge['Destination Port'].unique().tolist()\n",
    "df_origin = df_merge.groupby(['Origin Port']).agg({'Order ID': 'nunique',\n",
    "                                                   'Order Date': 'nunique',\n",
    "                                                   'Unit quantity': 'sum',\n",
    "                                                   'Weight': 'sum'}).reset_index()\n",
    "df_origin['avg_qty'] = round(df_origin['Unit quantity']/df_origin['Order Date'], 0)\n",
    "df_origin['avg_weight'] = round(df_origin['Weight']/df_origin['Order Date'], 0)\n",
    "df_origin = df_origin.drop(['Order ID', 'Unit quantity', 'Weight'], axis = 1)\n",
    "df_dest = df_merge.groupby(['Destination Port']).agg({'Order ID': 'nunique',\n",
    "                                                      'Order Date': 'nunique',\n",
    "                                                      'Unit quantity': 'sum',\n",
    "                                                      'Weight' : 'sum'}).reset_index()\n",
    "df_dest['avg_qty'] = round(df_dest['Unit quantity']/df_dest['Order Date'], 0)\n",
    "df_dest['avg_weight'] = round(df_dest['Weight']/df_dest['Order Date'], 0)\n",
    "df_dest = df_dest.drop(['Order ID', 'Unit quantity', 'Weight'], axis = 1)\n",
    "\n",
    "df_dest"
   ],
   "metadata": {
    "collapsed": false,
    "ExecuteTime": {
     "end_time": "2024-05-02T09:39:41.129448Z",
     "start_time": "2024-05-02T09:39:41.085912Z"
    }
   },
   "id": "c0ef5329eef7b60d",
   "execution_count": 85
  },
  {
   "cell_type": "markdown",
   "source": [
    "**Now check df_origin DataFrame**"
   ],
   "metadata": {
    "collapsed": false
   },
   "id": "dbb1760a2767b3fc"
  },
  {
   "cell_type": "code",
   "outputs": [
    {
     "data": {
      "text/plain": "  Origin Port  Order Date      avg_qty  avg_weight\n0      PORT04           1  204874838.0   1056632.0\n1      PORT05           1        348.0         2.0\n2      PORT09           1     245133.0     32168.0",
      "text/html": "<div>\n<style scoped>\n    .dataframe tbody tr th:only-of-type {\n        vertical-align: middle;\n    }\n\n    .dataframe tbody tr th {\n        vertical-align: top;\n    }\n\n    .dataframe thead th {\n        text-align: right;\n    }\n</style>\n<table border=\"1\" class=\"dataframe\">\n  <thead>\n    <tr style=\"text-align: right;\">\n      <th></th>\n      <th>Origin Port</th>\n      <th>Order Date</th>\n      <th>avg_qty</th>\n      <th>avg_weight</th>\n    </tr>\n  </thead>\n  <tbody>\n    <tr>\n      <th>0</th>\n      <td>PORT04</td>\n      <td>1</td>\n      <td>204874838.0</td>\n      <td>1056632.0</td>\n    </tr>\n    <tr>\n      <th>1</th>\n      <td>PORT05</td>\n      <td>1</td>\n      <td>348.0</td>\n      <td>2.0</td>\n    </tr>\n    <tr>\n      <th>2</th>\n      <td>PORT09</td>\n      <td>1</td>\n      <td>245133.0</td>\n      <td>32168.0</td>\n    </tr>\n  </tbody>\n</table>\n</div>"
     },
     "execution_count": 86,
     "metadata": {},
     "output_type": "execute_result"
    }
   ],
   "source": [
    "df_origin"
   ],
   "metadata": {
    "collapsed": false,
    "ExecuteTime": {
     "end_time": "2024-05-02T09:39:41.144496Z",
     "start_time": "2024-05-02T09:39:41.131954Z"
    }
   },
   "id": "3134551dd17d0a0e",
   "execution_count": 86
  },
  {
   "cell_type": "markdown",
   "source": [
    "Creating Supply and Demand Dictionaries:\n",
    ">It creates dictionaries supply and demand using the zip function, where keys are port codes and values are average weights. These dictionaries are based on aggregated data from df_origin and df_dest DataFrames, representing the average weight of orders for each origin and destination port, respectively.\n",
    "Displaying Information:\n",
    "> It prints out various pieces of information:\n",
    "   - All unique origin nodes (origins).\n",
    "   - Supply information, which maps each origin port to its average weight (supply).\n",
    "   - All unique destination nodes (destinations).\n",
    "   - Demand information, which maps each destination port to its average weight (demand).\n",
    "   - Costs for routing optimization (cost_pulp). Note: cost_pulp seems to be a variable not defined in this code snippet.\n",
    "\n",
    "Optional:\n",
    ">There are commented lines that can be uncommented to manually assign supply values for certain ports and demand values for a specific port."
   ],
   "metadata": {
    "collapsed": false
   },
   "id": "e79aae9b1da7e71a"
  },
  {
   "cell_type": "code",
   "outputs": [
    {
     "name": "stdout",
     "output_type": "stream",
     "text": [
      "All Origin Nodes : ['PORT04', 'PORT05', 'PORT09']\n",
      "Origin Supply : {'PORT04': 1056632.0, 'PORT05': 2.0, 'PORT09': 32168.0}\n",
      "All Destination Nodes : ['PORT09']\n",
      "Destination Demand : {'PORT09': 1088803.0}\n",
      "Costs From Origin to Destination : [[2.0], [8.0], [24.0]]\n"
     ]
    }
   ],
   "source": [
    "supply = dict(zip(df_origin['Origin Port'],df_origin['avg_weight']))\n",
    "demand = dict(zip(df_dest['Destination Port'], df_dest['avg_weight']))\n",
    "\n",
    "#All Variables for Routing Optimization \n",
    "# supply['PORT04'] = 1013\n",
    "# supply['PORT05'] = 385\n",
    "# supply['PORT09'] = 457\n",
    "# demand['PORT09'] = 457\n",
    "\n",
    "print(f'All Origin Nodes : {origins}')\n",
    "print(f'Origin Supply : {supply}')\n",
    "print(f'All Destination Nodes : {destinations}')\n",
    "print(f'Destination Demand : {demand}')\n",
    "print(f'Costs From Origin to Destination : {cost_pulp}')"
   ],
   "metadata": {
    "collapsed": false,
    "ExecuteTime": {
     "end_time": "2024-05-02T09:39:41.154432Z",
     "start_time": "2024-05-02T09:39:41.146569Z"
    }
   },
   "id": "85924e2dce2fea8a",
   "execution_count": 87
  },
  {
   "cell_type": "markdown",
   "source": [
    "```costs = makeDict([origins,destinations], cost_pulp, 0)```:\n",
    ">This line creates a dictionary costs where keys are tuples of origin and destination ports, and values are the associated transportation costs. The function makeDict is likely a custom function defined elsewhere to create a dictionary from given inputs.\n",
    "\n",
    "```prob = LpProblem(\"Port Distribution Problem\", LpMinimize)```: \n",
    ">This line creates a new linear programming problem named \"Port Distribution Problem\" with the objective of minimizing costs (LpMinimize).\n",
    "\n",
    "```routes = [(o,d) for o in origins for d in destinations]```:\n",
    ">This line generates all possible combinations of routes between origin and destination ports.\n",
    "\n",
    "```vars = LpVariable.dicts(\"route\", (origins,destinations), 0 , None, LpInteger)```:\n",
    ">This line creates a dictionary vars of decision variables representing the amount of goods to be transported from each origin to each destination. The decision variables are indexed by origin and destination ports and are constrained to be integers greater than or equal to 0.\n",
    "\n",
    "```prob += (lpSum([vars[o][d] * costs[o][d] for (o,d) in routes]), \"Sum of Transporting Costs\")```:\n",
    ">This line adds the objective function to the problem. The objective function is the sum of transportation costs for all routes, calculated as the product of the decision variable representing the amount of goods to be transported on each route and the associated transportation cost.\n",
    "\n",
    "```prob```:\n",
    ">The prob variable represents the linear programming problem that has been set up, including the objective function and any constraints that may be added later."
   ],
   "metadata": {
    "collapsed": false
   },
   "id": "d61d5a2f28e91d76"
  },
  {
   "cell_type": "code",
   "outputs": [
    {
     "name": "stderr",
     "output_type": "stream",
     "text": [
      "C:\\Users\\user\\AppData\\Local\\pypoetry\\Cache\\virtualenvs\\extensorflowgraphql-1Hc8Reqa-py3.11\\Lib\\site-packages\\pulp\\pulp.py:1316: UserWarning: Spaces are not permitted in the name. Converted to '_'\n",
      "  warnings.warn(\"Spaces are not permitted in the name. Converted to '_'\")\n"
     ]
    },
    {
     "data": {
      "text/plain": "Port_Distribution_Problem:\nMINIMIZE\n2.0*route_PORT04_PORT09 + 8.0*route_PORT05_PORT09 + 24.0*route_PORT09_PORT09 + 0.0\nVARIABLES\n0 <= route_PORT04_PORT09 Integer\n0 <= route_PORT05_PORT09 Integer\n0 <= route_PORT09_PORT09 Integer"
     },
     "execution_count": 88,
     "metadata": {},
     "output_type": "execute_result"
    }
   ],
   "source": [
    "costs = makeDict([origins,destinations], cost_pulp, 0)\n",
    "prob = LpProblem(\"Port Distribution Problem\", LpMinimize)\n",
    "routes = [(o, d) for o in origins for d in destinations]\n",
    "varying = LpVariable.dicts(\"route\", (origins,destinations), 0, None, LpInteger)\n",
    "prob += (lpSum([varying[o][d] * costs[o][d] for (o, d) in routes]), \"Sum of Transporting Costs\")\n",
    "\n",
    "prob"
   ],
   "metadata": {
    "collapsed": false,
    "ExecuteTime": {
     "end_time": "2024-05-02T09:39:41.168495Z",
     "start_time": "2024-05-02T09:39:41.156674Z"
    }
   },
   "id": "6df381bc23987f51",
   "execution_count": 88
  },
  {
   "cell_type": "markdown",
   "source": [
    "**Supply Max Constraints from each Origins Node**"
   ],
   "metadata": {
    "collapsed": false
   },
   "id": "9bff8deb12daf4a2"
  },
  {
   "cell_type": "code",
   "outputs": [],
   "source": [
    "for o in origins :\n",
    "    prob += (lpSum([varying[o][d] for d in destinations]) <= supply[o],\n",
    "             \"Sum_of_Weight_of_Goods_out_of_Origin_Ports_%s\" % o)\n",
    "    \n",
    "for d in destinations :\n",
    "    prob += (lpSum([varying[o][d] for o in origins]) >= demand[d],\n",
    "             \"Sum_of_Weight_of_Goods_into_Destination_Ports_%s\" % d)"
   ],
   "metadata": {
    "collapsed": false,
    "ExecuteTime": {
     "end_time": "2024-05-02T09:39:41.176623Z",
     "start_time": "2024-05-02T09:39:41.170504Z"
    }
   },
   "id": "c74e380092664da7",
   "execution_count": 89
  },
  {
   "cell_type": "markdown",
   "source": [
    "```prob.solve()```:   \n",
    ">This line solves the linear programming problem prob using PuLP's default solver. The solver computes the optimal solution to minimize the objective function while satisfying any constraints.\n",
    "\n",
    "```for v in prob.variables()```:\n",
    ">This iterates over all decision variables defined in the problem.\n",
    "\n",
    "```print(f'{v}: {v.varValue}')```:\n",
    ">For each decision variable v, this line prints out its name and the optimal value found by the solver (v.varValue). The optimal value represents the amount of goods to be transported from the corresponding origin port to the corresponding destination port."
   ],
   "metadata": {
    "collapsed": false
   },
   "id": "31ac3bfd2857f1dd"
  },
  {
   "cell_type": "code",
   "outputs": [
    {
     "name": "stdout",
     "output_type": "stream",
     "text": [
      "route_PORT04_PORT09: 1056632.0\n",
      "route_PORT05_PORT09: 2.0\n",
      "route_PORT09_PORT09: 32169.0\n"
     ]
    }
   ],
   "source": [
    "prob.solve()\n",
    "\n",
    "for v in prob.variables():\n",
    "    print(f'{v}: {v.varValue}')"
   ],
   "metadata": {
    "collapsed": false,
    "ExecuteTime": {
     "end_time": "2024-05-02T09:39:41.266505Z",
     "start_time": "2024-05-02T09:39:41.178630Z"
    }
   },
   "id": "a1c2c8c502f99a61",
   "execution_count": 90
  },
  {
   "cell_type": "markdown",
   "source": [
    "Grouping and Aggregating Data:\n",
    ">It groups the DataFrame freight by pairs of origin and destination port codes (orig_port_cd and dest_port_cd), and then calculates the average of the 'minimum cost' within each group, rounding it to the nearest integer.\n",
    "\n",
    "Reshaping Data:\n",
    ">It reshapes the resulting aggregated data into a pivot table using the unstack() function, where the rows correspond to origin port codes and the columns correspond to destination port codes.\n",
    "\n",
    "Converting to Numpy Array:\n",
    ">It converts the 'minimum cost' values from the pivot table into a Numpy array and then converts the array into a list."
   ],
   "metadata": {
    "collapsed": false
   },
   "id": "3fcdb550fe5295bb"
  },
  {
   "cell_type": "code",
   "outputs": [
    {
     "data": {
      "text/plain": "[[60.0],\n [222.0],\n [52.0],\n [107.0],\n [60.0],\n [16.0],\n [125.0],\n [24.0],\n [33.0],\n [18.0]]"
     },
     "execution_count": 91,
     "metadata": {},
     "output_type": "execute_result"
    }
   ],
   "source": [
    "cost_2 = freight.groupby(['orig_port_cd', \n",
    "                          'dest_port_cd']).agg({'minimum cost': lambda x: round((x.max() + x.min())/2, 0)}).unstack()\n",
    "cost_pulp_2 = cost_2['minimum cost'].to_numpy().tolist()\n",
    "\n",
    "cost_pulp_2"
   ],
   "metadata": {
    "collapsed": false,
    "ExecuteTime": {
     "end_time": "2024-05-02T09:39:41.282196Z",
     "start_time": "2024-05-02T09:39:41.268147Z"
    }
   },
   "id": "5bad92f01f135390",
   "execution_count": 91
  },
  {
   "cell_type": "markdown",
   "source": [
    "```plant_ports_filtered = plant_ports.set_index('Port')```:\n",
    ">This line sets the index of the DataFrame plant_ports to the 'Port' column, creating a new DataFrame plant_ports_filtered with the 'Port' column as its index.\n",
    "\n",
    "```plant_ports_filtered = plant_ports_filtered[plant_ports_filtered.index.isin(cost_2.index)]```:\n",
    ">This line filters plant_ports_filtered to include only rows where the index values (port codes) are present in the index of the DataFrame cost_2. In other words, it keeps only those rows from plant_ports_filtered that correspond to ports for which cost data is available.\n",
    "\n",
    "```pp_filtered = plant_ports_filtered.reset_index().sort_values(by = 'Port')```:\n",
    ">This line resets the index of plant_ports_filtered and sorts the DataFrame by the 'Port' column in ascending order. It assigns the result to a new DataFrame pp_filtered. This step is done to revert the index back to a regular column and ensure that the DataFrame is sorted by port codes for better reada bility or further analysis."
   ],
   "metadata": {
    "collapsed": false
   },
   "id": "925f01f1fc90dd7a"
  },
  {
   "cell_type": "code",
   "outputs": [
    {
     "data": {
      "text/plain": "      Port Plant Code\n0   PORT02    PLANT01\n6   PORT02    PLANT07\n9   PORT02    PLANT10\n1   PORT03    PLANT02\n7   PORT04    PLANT08\n8   PORT04    PLANT09\n10  PORT04    PLANT11\n11  PORT04    PLANT12\n12  PORT04    PLANT13\n2   PORT04    PLANT03\n18  PORT04    PLANT19\n3   PORT05    PLANT04\n4   PORT06    PLANT05\n5   PORT06    PLANT06\n13  PORT07    PLANT14\n14  PORT08    PLANT15\n15  PORT09    PLANT16\n16  PORT10    PLANT17\n17  PORT11    PLANT18",
      "text/html": "<div>\n<style scoped>\n    .dataframe tbody tr th:only-of-type {\n        vertical-align: middle;\n    }\n\n    .dataframe tbody tr th {\n        vertical-align: top;\n    }\n\n    .dataframe thead th {\n        text-align: right;\n    }\n</style>\n<table border=\"1\" class=\"dataframe\">\n  <thead>\n    <tr style=\"text-align: right;\">\n      <th></th>\n      <th>Port</th>\n      <th>Plant Code</th>\n    </tr>\n  </thead>\n  <tbody>\n    <tr>\n      <th>0</th>\n      <td>PORT02</td>\n      <td>PLANT01</td>\n    </tr>\n    <tr>\n      <th>6</th>\n      <td>PORT02</td>\n      <td>PLANT07</td>\n    </tr>\n    <tr>\n      <th>9</th>\n      <td>PORT02</td>\n      <td>PLANT10</td>\n    </tr>\n    <tr>\n      <th>1</th>\n      <td>PORT03</td>\n      <td>PLANT02</td>\n    </tr>\n    <tr>\n      <th>7</th>\n      <td>PORT04</td>\n      <td>PLANT08</td>\n    </tr>\n    <tr>\n      <th>8</th>\n      <td>PORT04</td>\n      <td>PLANT09</td>\n    </tr>\n    <tr>\n      <th>10</th>\n      <td>PORT04</td>\n      <td>PLANT11</td>\n    </tr>\n    <tr>\n      <th>11</th>\n      <td>PORT04</td>\n      <td>PLANT12</td>\n    </tr>\n    <tr>\n      <th>12</th>\n      <td>PORT04</td>\n      <td>PLANT13</td>\n    </tr>\n    <tr>\n      <th>2</th>\n      <td>PORT04</td>\n      <td>PLANT03</td>\n    </tr>\n    <tr>\n      <th>18</th>\n      <td>PORT04</td>\n      <td>PLANT19</td>\n    </tr>\n    <tr>\n      <th>3</th>\n      <td>PORT05</td>\n      <td>PLANT04</td>\n    </tr>\n    <tr>\n      <th>4</th>\n      <td>PORT06</td>\n      <td>PLANT05</td>\n    </tr>\n    <tr>\n      <th>5</th>\n      <td>PORT06</td>\n      <td>PLANT06</td>\n    </tr>\n    <tr>\n      <th>13</th>\n      <td>PORT07</td>\n      <td>PLANT14</td>\n    </tr>\n    <tr>\n      <th>14</th>\n      <td>PORT08</td>\n      <td>PLANT15</td>\n    </tr>\n    <tr>\n      <th>15</th>\n      <td>PORT09</td>\n      <td>PLANT16</td>\n    </tr>\n    <tr>\n      <th>16</th>\n      <td>PORT10</td>\n      <td>PLANT17</td>\n    </tr>\n    <tr>\n      <th>17</th>\n      <td>PORT11</td>\n      <td>PLANT18</td>\n    </tr>\n  </tbody>\n</table>\n</div>"
     },
     "execution_count": 92,
     "metadata": {},
     "output_type": "execute_result"
    }
   ],
   "source": [
    "plant_ports_filtered = plant_ports.set_index('Port')\n",
    "plant_ports_filtered = plant_ports_filtered[plant_ports_filtered.index.isin(cost_2.index)]\n",
    "pp_filtered = plant_ports_filtered.reset_index().sort_values(by = 'Port')\n",
    "\n",
    "pp_filtered"
   ],
   "metadata": {
    "collapsed": false,
    "ExecuteTime": {
     "end_time": "2024-05-02T09:39:41.299082Z",
     "start_time": "2024-05-02T09:39:41.285429Z"
    }
   },
   "id": "a6f96f1c74f861fe",
   "execution_count": 92
  },
  {
   "cell_type": "markdown",
   "source": [
    "```pp_merged = pd.merge(pp_filtered, wh_cap, left_on=['Plant Code'], right_on=['Plant ID'], how='left')```:\n",
    ">This line merges the pp_filtered DataFrame (which likely contains information about plant ports) with the wh_cap DataFrame (which presumably contains warehouse capacity information), based on the 'Plant Code' column in pp_filtered and the 'Plant ID' column in wh_cap. The merge is performed using a left join (how='left'), meaning all rows from pp_filtered are retained, and matching rows from wh_cap are included if they exist. The result is stored in pp_merged.\n",
    "\n",
    "```pp_merged = pp_merged.drop(['Plant ID'], axis=1)```:\n",
    ">This line drops the 'Plant ID' column from the pp_merged DataFrame, as it may have been duplicated after the merge.\n",
    "\n",
    "```pp_sum = pp_merged.groupby(['Port'])['Daily Capacity '].sum().reset_index()```:\n",
    ">This line groups the pp_merged DataFrame by the 'Port' column and calculates the sum of the 'Daily Capacity' for each port. The result is stored in pp_sum, which likely contains the total daily capacity for each port. The reset_index() function is used to convert the grouped result back into a DataFrame with a default integer index."
   ],
   "metadata": {
    "collapsed": false
   },
   "id": "59202daea5b5fcfb"
  },
  {
   "cell_type": "code",
   "outputs": [
    {
     "data": {
      "text/plain": "     Port  Daily Capacity \n0  PORT02             1453\n1  PORT03              138\n2  PORT04             2076\n3  PORT05              554\n4  PORT06              434\n5  PORT07              549\n6  PORT08               11\n7  PORT09              457\n8  PORT10                8\n9  PORT11              111",
      "text/html": "<div>\n<style scoped>\n    .dataframe tbody tr th:only-of-type {\n        vertical-align: middle;\n    }\n\n    .dataframe tbody tr th {\n        vertical-align: top;\n    }\n\n    .dataframe thead th {\n        text-align: right;\n    }\n</style>\n<table border=\"1\" class=\"dataframe\">\n  <thead>\n    <tr style=\"text-align: right;\">\n      <th></th>\n      <th>Port</th>\n      <th>Daily Capacity</th>\n    </tr>\n  </thead>\n  <tbody>\n    <tr>\n      <th>0</th>\n      <td>PORT02</td>\n      <td>1453</td>\n    </tr>\n    <tr>\n      <th>1</th>\n      <td>PORT03</td>\n      <td>138</td>\n    </tr>\n    <tr>\n      <th>2</th>\n      <td>PORT04</td>\n      <td>2076</td>\n    </tr>\n    <tr>\n      <th>3</th>\n      <td>PORT05</td>\n      <td>554</td>\n    </tr>\n    <tr>\n      <th>4</th>\n      <td>PORT06</td>\n      <td>434</td>\n    </tr>\n    <tr>\n      <th>5</th>\n      <td>PORT07</td>\n      <td>549</td>\n    </tr>\n    <tr>\n      <th>6</th>\n      <td>PORT08</td>\n      <td>11</td>\n    </tr>\n    <tr>\n      <th>7</th>\n      <td>PORT09</td>\n      <td>457</td>\n    </tr>\n    <tr>\n      <th>8</th>\n      <td>PORT10</td>\n      <td>8</td>\n    </tr>\n    <tr>\n      <th>9</th>\n      <td>PORT11</td>\n      <td>111</td>\n    </tr>\n  </tbody>\n</table>\n</div>"
     },
     "execution_count": 93,
     "metadata": {},
     "output_type": "execute_result"
    }
   ],
   "source": [
    "pp_merged = pd.merge(pp_filtered, wh_cap, left_on = ['Plant Code'], right_on = ['Plant ID'], how = 'left')\n",
    "pp_merged = pp_merged.drop(['Plant ID'], axis = 1)\n",
    "pp_sum = pp_merged.groupby(['Port'])['Daily Capacity '].sum().reset_index()\n",
    "\n",
    "pp_sum"
   ],
   "metadata": {
    "collapsed": false,
    "ExecuteTime": {
     "end_time": "2024-05-02T09:39:41.485910Z",
     "start_time": "2024-05-02T09:39:41.474483Z"
    }
   },
   "id": "80336b35a94a8b86",
   "execution_count": 93
  },
  {
   "cell_type": "markdown",
   "source": [
    "```perc_needed = pp_sum[pp_sum['Port'] == 'PORT09']['Daily Capacity ']```:\n",
    ">his line filters the pp_sum DataFrame to include only rows where the 'Port' column equals 'PORT09', and then selects the 'Daily Capacity' column from the filtered rows. It stores the result in perc_needed, which likely contains the total daily capacity for the port 'PORT09'.\n",
    "\n",
    "```sum(pp_sum['Daily Capacity'])```:\n",
    ">This part calculates the total daily capacity across all ports by summing the 'Daily Capacity' column of the pp_sum DataFrame.\n",
    "\n",
    "```perc_needed = perc_needed / sum(pp_sum['Daily Capacity'])```:\n",
    ">This line divides the total daily capacity needed for 'PORT09' by the total daily capacity across all ports. The result is the percentage of the total daily capacity that is needed for 'PORT09'."
   ],
   "metadata": {
    "collapsed": false
   },
   "id": "d78ca2f79032cfb6"
  },
  {
   "cell_type": "code",
   "outputs": [
    {
     "data": {
      "text/plain": "7    0.078916\nName: Daily Capacity , dtype: float64"
     },
     "execution_count": 94,
     "metadata": {},
     "output_type": "execute_result"
    }
   ],
   "source": [
    "perc_needed = pp_sum[pp_sum['Port'] == 'PORT09']['Daily Capacity ']/sum(pp_sum['Daily Capacity '])\n",
    "\n",
    "perc_needed"
   ],
   "metadata": {
    "collapsed": false,
    "ExecuteTime": {
     "end_time": "2024-05-02T09:39:42.031304Z",
     "start_time": "2024-05-02T09:39:42.021405Z"
    }
   },
   "id": "8355fe8d32212934",
   "execution_count": 94
  },
  {
   "cell_type": "markdown",
   "source": [
    "**Check columns on pp_merged**"
   ],
   "metadata": {
    "collapsed": false
   },
   "id": "dd246ec6ca1bf51b"
  },
  {
   "cell_type": "code",
   "outputs": [
    {
     "data": {
      "text/plain": "Index(['Port', 'Plant Code', 'Daily Capacity '], dtype='object')"
     },
     "execution_count": 95,
     "metadata": {},
     "output_type": "execute_result"
    }
   ],
   "source": [
    "pp_merged.columns"
   ],
   "metadata": {
    "collapsed": false,
    "ExecuteTime": {
     "end_time": "2024-05-02T09:39:42.427341Z",
     "start_time": "2024-05-02T09:39:42.421491Z"
    }
   },
   "id": "c3f99f16b6b830c4",
   "execution_count": 95
  },
  {
   "cell_type": "markdown",
   "source": [
    "```f_origin = freight[['orig_port_cd']].drop_duplicates().sort_values(by='orig_port_cd')```:\n",
    ">This line extracts unique origin port codes from the 'orig_port_cd' column of the freight DataFrame, removes any duplicate values, and sorts them in ascending order.\n",
    "\n",
    "```f_dest = freight[['dest_port_cd']].drop_duplicates().sort_values(by='dest_port_cd')```:\n",
    ">This line performs a similar operation for destination ports, extracting unique destination port codes from the 'dest_port_cd' column of the freight DataFrame, removing duplicates, and sorting them in ascending order.\n",
    "\n",
    "```f_origin = pd.merge(f_origin, pp_sum, left_on='orig_port_cd', right_on='Port', how='left')```:\n",
    ">This line merges the DataFrame f_origin with the pp_sum DataFrame based on the 'orig_port_cd' column in f_origin and the 'Port' column in pp_sum. The merge is performed using a left join (how='left'), ensuring that all rows from f_origin are retained. The result contains the daily capacity information for each origin port.\n",
    "\n",
    "```f_origin = f_origin[['orig_port_cd','Daily Capacity ']]```:\n",
    ">This line selects only the 'orig_port_cd' and 'Daily Capacity' columns from the merged DataFrame f_origin, discarding any other columns.\n",
    "\n",
    "```f_origin_list = f_origin['orig_port_cd'].tolist()```:\n",
    ">Finally, this line converts the 'orig_port_cd' column of the DataFrame f_origin into a list named f_origin_list, which likely contains the unique origin port codes."
   ],
   "metadata": {
    "collapsed": false
   },
   "id": "da89a3c2dd34dcb"
  },
  {
   "cell_type": "code",
   "outputs": [
    {
     "data": {
      "text/plain": "['PORT02',\n 'PORT03',\n 'PORT04',\n 'PORT05',\n 'PORT06',\n 'PORT07',\n 'PORT08',\n 'PORT09',\n 'PORT10',\n 'PORT11']"
     },
     "execution_count": 96,
     "metadata": {},
     "output_type": "execute_result"
    }
   ],
   "source": [
    "f_origin = freight[['orig_port_cd']].drop_duplicates().sort_values(by = 'orig_port_cd')\n",
    "f_dest = freight[['dest_port_cd']].drop_duplicates().sort_values(by = 'dest_port_cd')\n",
    "\n",
    "f_origin = pd.merge(f_origin, pp_sum, left_on = 'orig_port_cd', right_on = 'Port', how = 'left')\n",
    "f_origin = f_origin[['orig_port_cd','Daily Capacity ']]\n",
    "\n",
    "f_origin_list = f_origin['orig_port_cd'].tolist()\n",
    "f_origin_list"
   ],
   "metadata": {
    "collapsed": false,
    "ExecuteTime": {
     "end_time": "2024-05-02T09:39:42.631891Z",
     "start_time": "2024-05-02T09:39:42.616083Z"
    }
   },
   "id": "30dca7217ed639a5",
   "execution_count": 96
  },
  {
   "cell_type": "markdown",
   "source": [
    "```f_dest = pd.merge(f_dest, pp_sum, left_on='dest_port_cd', right_on='Port', how='left')```:\n",
    ">This line merges the DataFrame f_dest with the pp_sum DataFrame based on the 'dest_port_cd' column in f_dest and the 'Port' column in pp_sum. The merge is performed using a left join (how='left'), ensuring that all rows from f_dest are retained. The result contains the daily capacity information for each destination port.\n",
    "\n",
    "```f_dest = f_dest[['dest_port_cd','Daily Capacity ']]```:\n",
    ">This line selects only the 'dest_port_cd' and 'Daily Capacity' columns from the merged DataFrame f_dest, discarding any other columns.\n",
    "\n",
    "```f_dest_list = f_dest['dest_port_cd'].tolist()```:\n",
    ">Finally, this line converts the 'dest_port_cd' column of the DataFrame f_dest into a list named f_dest_list, which likely contains the unique destination port codes."
   ],
   "metadata": {
    "collapsed": false
   },
   "id": "347ac3e6ec33a483"
  },
  {
   "cell_type": "code",
   "outputs": [
    {
     "data": {
      "text/plain": "['PORT09']"
     },
     "execution_count": 97,
     "metadata": {},
     "output_type": "execute_result"
    }
   ],
   "source": [
    "f_dest = pd.merge(f_dest, pp_sum, left_on = 'dest_port_cd', right_on = 'Port', how = 'left')\n",
    "f_dest = f_dest[['dest_port_cd','Daily Capacity ']]\n",
    "f_dest\n",
    "\n",
    "f_dest_list = f_dest['dest_port_cd'].tolist()\n",
    "f_dest_list"
   ],
   "metadata": {
    "collapsed": false,
    "ExecuteTime": {
     "end_time": "2024-05-02T09:39:42.780030Z",
     "start_time": "2024-05-02T09:39:42.766275Z"
    }
   },
   "id": "85f11c52004e484",
   "execution_count": 97
  },
  {
   "cell_type": "markdown",
   "source": [
    "```origin_cap = dict(zip(f_origin['orig_port_cd'], f_origin['Daily Capacity '].astype('float')))```:\n",
    ">This line creates a dictionary origin_cap where keys are origin port codes ('orig_port_cd' column from the DataFrame f_origin) and values are their corresponding daily capacities ('Daily Capacity ' column from the DataFrame f_origin). The astype('float') method is used to convert the values to floating-point numbers.\n",
    "\n",
    "```dest_cap = dict(zip(f_dest['dest_port_cd'], f_dest['Daily Capacity '].astype('float')))```:\n",
    ">Similarly, this line creates a dictionary dest_cap where keys are destination port codes ('dest_port_cd' column from the DataFrame f_dest) and values are their corresponding daily capacities ('Daily Capacity ' column from the DataFrame f_dest). Again, the astype('float') method is used to convert the values to floating-point numbers.\n",
    "\n",
    "```origin_cap```:\n",
    ">This variable holds the origin_cap dictionary, which maps origin port codes to their daily capacities. When printed, it would display the dictionary containing the mapping between origin port codes and their daily capacities."
   ],
   "metadata": {
    "collapsed": false
   },
   "id": "e5fc50d068e5111b"
  },
  {
   "cell_type": "code",
   "outputs": [
    {
     "data": {
      "text/plain": "{'PORT02': 1453.0,\n 'PORT03': 138.0,\n 'PORT04': 2076.0,\n 'PORT05': 554.0,\n 'PORT06': 434.0,\n 'PORT07': 549.0,\n 'PORT08': 11.0,\n 'PORT09': 457.0,\n 'PORT10': 8.0,\n 'PORT11': 111.0}"
     },
     "execution_count": 98,
     "metadata": {},
     "output_type": "execute_result"
    }
   ],
   "source": [
    "origin_cap = dict(zip(f_origin['orig_port_cd'], f_origin['Daily Capacity '].astype('float')))\n",
    "dest_cap = dict(zip(f_dest['dest_port_cd'], f_dest['Daily Capacity '].astype('float')))\n",
    "\n",
    "origin_cap"
   ],
   "metadata": {
    "collapsed": false,
    "ExecuteTime": {
     "end_time": "2024-05-02T09:39:42.938007Z",
     "start_time": "2024-05-02T09:39:42.928712Z"
    }
   },
   "id": "2a99d5b83d0df31e",
   "execution_count": 98
  },
  {
   "cell_type": "markdown",
   "source": [
    "**Check that dest_cap**"
   ],
   "metadata": {
    "collapsed": false
   },
   "id": "66f4df8748661360"
  },
  {
   "cell_type": "code",
   "outputs": [
    {
     "data": {
      "text/plain": "{'PORT09': 457.0}"
     },
     "execution_count": 99,
     "metadata": {},
     "output_type": "execute_result"
    }
   ],
   "source": [
    "dest_cap"
   ],
   "metadata": {
    "collapsed": false,
    "ExecuteTime": {
     "end_time": "2024-05-02T09:39:48.652164Z",
     "start_time": "2024-05-02T09:39:48.643309Z"
    }
   },
   "id": "d2a17d59339d4d40",
   "execution_count": 99
  },
  {
   "cell_type": "markdown",
   "source": [
    "```problem_statement = LpProblem(\"Port Distribution Problem\", LpMinimize)```:\n",
    ">This line creates a new linear programming problem named \"Port Distribution Problem\" with the objective of minimizing costs (LpMinimize).\n",
    "\n",
    "```variables = LpVariable.dicts(\"route\", (f_origin_list, f_dest_list), 0 , None, LpInteger)```:\n",
    ">This line creates decision variables representing the amount of goods to be transported from each origin port to each destination port. The decision variables are indexed by origin and destination port codes and are constrained to be integers greater than or equal to 0.\n",
    "\n",
    "```routes = [(o,d) for o in f_origin_list for d in f_dest_list]```:\n",
    ">This line generates all possible combinations of routes between origin and destination ports.\n",
    "\n",
    "```costs = makeDict([f_origin_list, f_dest_list], cost_pulp_2, 0)```:\n",
    ">This line creates a dictionary costs where keys are tuples of origin and destination port codes, and values are the associated transportation costs (cost_pulp_2). This dictionary represents the costs of transporting goods along each route.\n",
    "\n",
    "```problem_statement```:\n",
    ">This line adds the objective function to the problem. The objective function is the sum of transportation costs for all routes, calculated as the product of the decision variable representing the amount of goods to be transported on each route and the associated transportation cost.\n",
    "\n",
    "```the loop```:\n",
    ">These loops add capacity constraints to the problem. For each origin port, the total weight of goods leaving the port must not exceed the port's capacity (origin_cap). Similarly, for each destination port, the total weight of goods arriving at the port must meet or exceed the port's capacity (dest_cap).\n",
    "\n",
    "```problem_statement.solve()```:\n",
    ">This line solves the linear programming problem defined by problem_statement using PuLP's solver.\n",
    "\n",
    "```last loop```:\n",
    ">This loop iterates over all decision variables in the problem and prints out their names and optimal values. The optimal value represents the amount of goods to be transported along each route in the optimal solution."
   ],
   "metadata": {
    "collapsed": false
   },
   "id": "2143c3c76e882b7c"
  },
  {
   "cell_type": "code",
   "outputs": [
    {
     "name": "stdout",
     "output_type": "stream",
     "text": [
      "route_PORT02_PORT09: 0.0\n",
      "route_PORT03_PORT09: 0.0\n",
      "route_PORT04_PORT09: 0.0\n",
      "route_PORT05_PORT09: 0.0\n",
      "route_PORT06_PORT09: 0.0\n",
      "route_PORT07_PORT09: 457.0\n",
      "route_PORT08_PORT09: 0.0\n",
      "route_PORT09_PORT09: 0.0\n",
      "route_PORT10_PORT09: 0.0\n",
      "route_PORT11_PORT09: 0.0\n"
     ]
    },
    {
     "name": "stderr",
     "output_type": "stream",
     "text": [
      "C:\\Users\\user\\AppData\\Local\\pypoetry\\Cache\\virtualenvs\\extensorflowgraphql-1Hc8Reqa-py3.11\\Lib\\site-packages\\pulp\\pulp.py:1316: UserWarning: Spaces are not permitted in the name. Converted to '_'\n",
      "  warnings.warn(\"Spaces are not permitted in the name. Converted to '_'\")\n"
     ]
    }
   ],
   "source": [
    "problem_statement = LpProblem(\"Port Distribution Problem\", LpMinimize)\n",
    "variables = LpVariable.dicts(\"route\", (f_origin_list,f_dest_list), 0, None, LpInteger)\n",
    "routes = [(o, d) for o in f_origin_list for d in f_dest_list]\n",
    "costs = makeDict([f_origin_list,f_dest_list], cost_pulp_2, 0)\n",
    "problem_statement += (lpSum([variables[o][d] * costs[o][d] for (o, d) in routes]),\n",
    "                      \"Sum_of_Transporting_Costs\")\n",
    "\n",
    "for o in f_origin_list :\n",
    "    problem_statement += (lpSum([variables[o][d] for d in f_dest_list]) <= origin_cap[o],\n",
    "                          \"Sum_of_Weight_out_of_Port_%s\" %o)\n",
    "    \n",
    "for d in f_dest_list :\n",
    "    problem_statement += (lpSum([variables[o][d] for o in f_origin_list]) >= dest_cap[d],\n",
    "                          \"Sum_of_Weight_in_Port_%s\" %d)\n",
    "    \n",
    "problem_statement.solve()    \n",
    "    \n",
    "for a in problem_statement.variables():\n",
    "    print(f'{a}: {a.varValue}')"
   ],
   "metadata": {
    "collapsed": false,
    "ExecuteTime": {
     "end_time": "2024-05-02T09:39:50.599273Z",
     "start_time": "2024-05-02T09:39:50.524721Z"
    }
   },
   "id": "4267c853fce8baca",
   "execution_count": 100
  },
  {
   "cell_type": "code",
   "outputs": [],
   "source": [],
   "metadata": {
    "collapsed": false,
    "ExecuteTime": {
     "end_time": "2024-05-02T09:39:52.403965Z",
     "start_time": "2024-05-02T09:39:52.401746Z"
    }
   },
   "id": "42b2f8079377f0ee",
   "execution_count": 100
  }
 ],
 "metadata": {
  "kernelspec": {
   "display_name": "Python 3",
   "language": "python",
   "name": "python3"
  },
  "language_info": {
   "codemirror_mode": {
    "name": "ipython",
    "version": 2
   },
   "file_extension": ".py",
   "mimetype": "text/x-python",
   "name": "python",
   "nbconvert_exporter": "python",
   "pygments_lexer": "ipython2",
   "version": "2.7.6"
  }
 },
 "nbformat": 4,
 "nbformat_minor": 5
}
